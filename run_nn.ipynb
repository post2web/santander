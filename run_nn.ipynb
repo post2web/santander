{
 "cells": [
  {
   "cell_type": "code",
   "execution_count": null,
   "metadata": {},
   "outputs": [],
   "source": [
    "%matplotlib inline\n",
    "import matplotlib.pyplot as plt\n",
    "import pandas as pd\n",
    "import numpy as np\n",
    "import tensorflow as tf"
   ]
  },
  {
   "cell_type": "markdown",
   "metadata": {},
   "source": [
    "## Run Neural Network for all number of dimentions created by Encoder-Decoder"
   ]
  },
  {
   "cell_type": "code",
   "execution_count": null,
   "metadata": {},
   "outputs": [],
   "source": [
    "for i in [2, 4, 8, 16, 32, 64, 128]:\n",
    "    print(i)\n",
    "    inputs = 'ed_model_dirs/%d/result/' % i\n",
    "    name = 'ed_%d' % i\n",
    "    \n",
    "    !python3 nn.py \\\n",
    "    --hidden_units '50,20' \\\n",
    "    --inputs $inputs \\\n",
    "    --name $name \\\n",
    "    --learning_rate 0.0001 \\\n",
    "    --batch_size 64 \\\n",
    "    --fresh_start \\\n",
    "    > /dev/null 2>&1"
   ]
  },
  {
   "cell_type": "markdown",
   "metadata": {},
   "source": [
    "## Export the result create with inputs from Encoder-Decoder"
   ]
  },
  {
   "cell_type": "code",
   "execution_count": null,
   "metadata": {},
   "outputs": [],
   "source": [
    "for i in [2, 4, 8, 16, 32, 64, 128]:\n",
    "    print(i)\n",
    "    inputs = 'ed_model_dirs/%d/result/' % i\n",
    "    model = 'nn_model_dirs/ed_%d/' % i\n",
    "    \n",
    "    !python3 nn_export.py \\\n",
    "    --inputs $inputs \\\n",
    "    --model $model \\\n",
    "    > /dev/null 2>&1"
   ]
  },
  {
   "cell_type": "markdown",
   "metadata": {},
   "source": [
    "## Run Neural Network for all number of dimentions created by PCA"
   ]
  },
  {
   "cell_type": "code",
   "execution_count": null,
   "metadata": {},
   "outputs": [],
   "source": [
    "for i in [2, 4, 8, 16, 32, 64, 128]:\n",
    "    print(i)\n",
    "    inputs = 'pca_result/%d/' % i\n",
    "    name = 'pca_%d' % i\n",
    "    \n",
    "    !python3 nn.py \\\n",
    "    --hidden_units '50,20' \\\n",
    "    --inputs $inputs \\\n",
    "    --name $name \\\n",
    "    --learning_rate 0.01 \\\n",
    "    --batch_size 64 \\\n",
    "    --fresh_start \\\n",
    "    > /dev/null 2>&1"
   ]
  },
  {
   "cell_type": "markdown",
   "metadata": {},
   "source": [
    "## Export the result create with inputs from PCA"
   ]
  },
  {
   "cell_type": "code",
   "execution_count": null,
   "metadata": {},
   "outputs": [],
   "source": [
    "for i in [2, 4, 8, 16, 32, 64, 128]:\n",
    "    print(i)\n",
    "    inputs = 'pca_result/%d/result/' % i\n",
    "    model = 'nn_model_dirs/pca_%d/' % i\n",
    "    \n",
    "    !python3 nn_export.py \\\n",
    "    --inputs $inputs \\\n",
    "    --model $model \\\n",
    "    > /dev/null 2>&1"
   ]
  }
 ],
 "metadata": {
  "kernelspec": {
   "display_name": "Python 3",
   "language": "python",
   "name": "python3"
  },
  "language_info": {
   "codemirror_mode": {
    "name": "ipython",
    "version": 3
   },
   "file_extension": ".py",
   "mimetype": "text/x-python",
   "name": "python",
   "nbconvert_exporter": "python",
   "pygments_lexer": "ipython3",
   "version": "3.6.6"
  }
 },
 "nbformat": 4,
 "nbformat_minor": 2
}
