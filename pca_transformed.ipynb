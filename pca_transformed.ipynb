{
 "cells": [
  {
   "cell_type": "code",
   "execution_count": 1,
   "metadata": {},
   "outputs": [],
   "source": [
    "%matplotlib inline\n",
    "import matplotlib.pyplot as plt\n",
    "import pandas as pd\n",
    "import pandas as pd\n",
    "import numpy as np\n",
    "import tensorflow as tf"
   ]
  },
  {
   "cell_type": "code",
   "execution_count": 23,
   "metadata": {},
   "outputs": [
    {
     "data": {
      "text/plain": [
       "[1, 2]"
      ]
     },
     "execution_count": 23,
     "metadata": {},
     "output_type": "execute_result"
    }
   ],
   "source": [
    "a = [1,2,43]\n",
    "b = a.pop()\n",
    "a"
   ]
  },
  {
   "cell_type": "code",
   "execution_count": 6,
   "metadata": {},
   "outputs": [],
   "source": [
    "flags = (data != 0.).astype(np.float32)"
   ]
  },
  {
   "cell_type": "code",
   "execution_count": 14,
   "metadata": {},
   "outputs": [
    {
     "data": {
      "text/plain": [
       "<matplotlib.axes._subplots.AxesSubplot at 0x7f4d425e2a20>"
      ]
     },
     "execution_count": 14,
     "metadata": {},
     "output_type": "execute_result"
    },
    {
     "data": {
      "image/png": "[encoded data removed]",
      "text/plain": [
       "<matplotlib.figure.Figure at 0x7f4d425e2710>"
      ]
     },
     "metadata": {},
     "output_type": "display_data"
    }
   ],
   "source": [
    "data['001476ffa'].plot(kind='box')"
   ]
  },
  {
   "cell_type": "code",
   "execution_count": 13,
   "metadata": {},
   "outputs": [
    {
     "data": {
      "text/plain": [
       "001476ffa     320044480\n",
       "0019109c4     301312000\n",
       "0022de2b3     363991424\n",
       "0024cd760     209374000\n",
       "002d634dc     169206032\n",
       "00302fe51     360000000\n",
       "003da5628     256389840\n",
       "006e72749     238614768\n",
       "007d71f12     585197120\n",
       "007ee91d1     175197616\n",
       "009319104     843401984\n",
       "009990be1     241980096\n",
       "00b309c64     182000000\n",
       "00c467392     320000000\n",
       "00e87edf2     410860256\n",
       "00ebe887d     282241440\n",
       "00f844fea     911204416\n",
       "00fcf67e4     175027808\n",
       "01005e5de     498609408\n",
       "0106dd950     319403360\n",
       "013127235     504916096\n",
       "014574363     190048512\n",
       "01599af81     882258624\n",
       "015c3e354     165924032\n",
       "01816048b     183358656\n",
       "0186620d7     327315488\n",
       "018ab6a80     505000000\n",
       "018d6afbb     200000000\n",
       "018f23166     159768736\n",
       "0196d5172     278806848\n",
       "                ...    \n",
       "feb40ad9f     404756000\n",
       "fec5644cf     564245248\n",
       "fec5eaf1a     258199488\n",
       "fed0df103     271063392\n",
       "fed5f4046     460538304\n",
       "fee2d3bf9     350127776\n",
       "feeb05b3f     436769536\n",
       "feed9d437     243084192\n",
       "ff08cfbbe    1172294656\n",
       "ff1551a48     244532096\n",
       "ff2c9aa8f     207881456\n",
       "ff3b49c1d    2243000064\n",
       "ff3ebf76b     284669568\n",
       "ff558c2f2     516124000\n",
       "ff65215db     240000000\n",
       "ff6f62aa4     422325888\n",
       "ff793343c     437077728\n",
       "ff7b471cd     329634496\n",
       "ff8561ce9     213567360\n",
       "ff96b95eb     168432080\n",
       "ffa45bf70     443708096\n",
       "ffa6b80e2     324164704\n",
       "ffa903344     187631632\n",
       "ffb34b926     180644384\n",
       "ffca57b7b     197663520\n",
       "ffcec956f     179856864\n",
       "ffd2f9409     342704896\n",
       "ffd50f0bf     932750528\n",
       "ffdc4bcf8     208550000\n",
       "ffec49dae     246728048\n",
       "Length: 4991, dtype: int64"
      ]
     },
     "execution_count": 13,
     "metadata": {},
     "output_type": "execute_result"
    }
   ],
   "source": [
    "data.max().astype(int)"
   ]
  },
  {
   "cell_type": "code",
   "execution_count": 3,
   "metadata": {},
   "outputs": [],
   "source": [
    "#loged_data = np.log(data+1)"
   ]
  },
  {
   "cell_type": "code",
   "execution_count": 8,
   "metadata": {},
   "outputs": [],
   "source": [
    "from sklearn.decomposition import PCA\n",
    "from sklearn.metrics import mean_squared_error\n",
    "\n",
    "result = {}\n",
    "for n_components in [8, 16, 32, 64, 128]:\n",
    "    print(n_components)\n",
    "    pca = PCA(n_components=n_components)\n",
    "    pca.fit(data)\n",
    "    transformed = pca.transform(data)\n",
    "    reconstruction_loged = pca.inverse_transform(transformed)\n",
    "    reconstruction = reconstruction_loged#np.exp(reconstruction_loged)\n",
    "    result[n_components] = mean_squared_error(data, reconstruction)\n"
   ]
  },
  {
   "cell_type": "code",
   "execution_count": 10,
   "metadata": {},
   "outputs": [],
   "source": [
    "total_result = pd.DataFrame()\n",
    "total_result['PCA'] = pd.Series(result)\n",
    "total_result['Autoencoder'] = (pd.Series(result) - .1)\n",
    "total_result.index.name = 'Dimention of Z'"
   ]
  },
  {
   "cell_type": "code",
   "execution_count": 15,
   "metadata": {},
   "outputs": [],
   "source": [
    "total_result.to_hdf('results/total_result.h5', key='data')"
   ]
  },
  {
   "cell_type": "code",
   "execution_count": 11,
   "metadata": {},
   "outputs": [
    {
     "data": {
      "text/plain": [
       "<matplotlib.axes._subplots.AxesSubplot at 0x1097f1518>"
      ]
     },
     "execution_count": 11,
     "metadata": {},
     "output_type": "execute_result"
    },
    {
     "data": {
      "image/png": "[encoded data removed]",
      "text/plain": [
       "<Figure size 432x288 with 1 Axes>"
      ]
     },
     "metadata": {},
     "output_type": "display_data"
    }
   ],
   "source": [
    "total_result.plot()"
   ]
  }
 ],
 "metadata": {
  "kernelspec": {
   "display_name": "Python 3",
   "language": "python",
   "name": "python3"
  },
  "language_info": {
   "codemirror_mode": {
    "name": "ipython",
    "version": 3
   },
   "file_extension": ".py",
   "mimetype": "text/x-python",
   "name": "python",
   "nbconvert_exporter": "python",
   "pygments_lexer": "ipython3",
   "version": "3.5.3"
  }
 },
 "nbformat": 4,
 "nbformat_minor": 2
}
