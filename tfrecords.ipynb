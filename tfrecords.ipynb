{
 "cells": [
  {
   "cell_type": "code",
   "execution_count": 1,
   "metadata": {},
   "outputs": [],
   "source": [
    "import pandas as pd\n",
    "import numpy as np\n",
    "import tensorflow as tf\n",
    "\n",
    "def int64_feature(value):\n",
    "    return tf.train.Feature(int64_list=tf.train.Int64List(value=[value]))\n",
    "\n",
    "def int64_list_feature(value):\n",
    "    return tf.train.Feature(int64_list=tf.train.Int64List(value=value))\n",
    "\n",
    "def bytes_feature(value):\n",
    "    return tf.train.Feature(bytes_list=tf.train.BytesList(value=[value]))\n",
    "\n",
    "def bytes_list_feature(value):\n",
    "    return tf.train.Feature(bytes_list=tf.train.BytesList(value=value))\n",
    "\n",
    "def float_list_feature(value):\n",
    "    return tf.train.Feature(float_list=tf.train.FloatList(value=value))\n",
    "\n",
    "def float_feature(value):\n",
    "    return tf.train.Feature(float_list=tf.train.FloatList(value=[value]))"
   ]
  },
  {
   "cell_type": "code",
   "execution_count": 12,
   "metadata": {},
   "outputs": [],
   "source": [
    "data = pd.read_hdf('data/data.h5', 'data')\n",
    "data['target'] = data['target'].fillna(0.)"
   ]
  },
  {
   "cell_type": "code",
   "execution_count": 13,
   "metadata": {},
   "outputs": [
    {
     "data": {
      "text/plain": [
       "(50000, 3801)"
      ]
     },
     "execution_count": 13,
     "metadata": {},
     "output_type": "execute_result"
    }
   ],
   "source": [
    "train, valid = data.iloc[:-3801], data.iloc[-3801:]\n",
    "len(train), len(valid)"
   ]
  },
  {
   "cell_type": "code",
   "execution_count": 14,
   "metadata": {},
   "outputs": [],
   "source": [
    "writer = tf.python_io.TFRecordWriter('train.tfrecord')\n",
    "\n",
    "for index, row in train.iterrows():\n",
    "    row = row.astype(np.float32)\n",
    "    target = row['target']\n",
    "    is_train = int(row['is_train'])\n",
    "    del row['target']\n",
    "    del row['is_train']\n",
    "    row = np.log(row.values+1)\n",
    "\n",
    "    example = tf.train.Example(features=tf.train.Features(feature={\n",
    "        'index': bytes_feature(index.encode('utf8')),\n",
    "        'values': bytes_feature(row.tostring()),\n",
    "        'target': float_feature(target),\n",
    "        'is_train': float_feature(is_train)\n",
    "    }))\n",
    "    writer.write(example.SerializeToString())\n",
    "writer.close()"
   ]
  },
  {
   "cell_type": "code",
   "execution_count": 15,
   "metadata": {},
   "outputs": [],
   "source": [
    "writer = tf.python_io.TFRecordWriter('valid.tfrecord')\n",
    "\n",
    "for index, row in valid.iterrows():\n",
    "    row = row.astype(np.float32)\n",
    "    target = row['target']\n",
    "    is_train = int(row['is_train'])\n",
    "    del row['target']\n",
    "    del row['is_train']\n",
    "    row = np.log(row.values+1)\n",
    "\n",
    "    example = tf.train.Example(features=tf.train.Features(feature={\n",
    "        'index': bytes_feature(index.encode('utf8')),\n",
    "        'values': bytes_feature(row.tostring()),\n",
    "        'target': float_feature(target),\n",
    "        'is_train': float_feature(is_train)\n",
    "    }))\n",
    "    writer.write(example.SerializeToString())\n",
    "writer.close()"
   ]
  }
 ],
 "metadata": {
  "kernelspec": {
   "display_name": "Python 3",
   "language": "python",
   "name": "python3"
  },
  "language_info": {
   "codemirror_mode": {
    "name": "ipython",
    "version": 3
   },
   "file_extension": ".py",
   "mimetype": "text/x-python",
   "name": "python",
   "nbconvert_exporter": "python",
   "pygments_lexer": "ipython3",
   "version": "3.5.3"
  }
 },
 "nbformat": 4,
 "nbformat_minor": 2
}
