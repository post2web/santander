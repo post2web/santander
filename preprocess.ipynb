{
 "cells": [
  {
   "cell_type": "code",
   "execution_count": 1,
   "metadata": {},
   "outputs": [],
   "source": [
    "import pandas as pd\n",
    "import numpy as np\n",
    "import tensorflow as tf"
   ]
  },
  {
   "cell_type": "markdown",
   "metadata": {},
   "source": [
    "# Read data"
   ]
  },
  {
   "cell_type": "code",
   "execution_count": 2,
   "metadata": {},
   "outputs": [],
   "source": [
    "try:\n",
    "    train = pd.read_hdf('data/train.h5', 'data')\n",
    "except:\n",
    "    train = pd.read_csv('data/train.csv').set_index('ID').astype(np.float32)\n",
    "    train.to_hdf('data/train.h5', 'data')\n",
    "try:\n",
    "    test = pd.read_hdf('data/test.h5', 'data')\n",
    "except:\n",
    "    test = pd.read_csv('data/test.csv').set_index('ID').astype(np.float32)\n",
    "    test.to_hdf('data/test.h5', 'data')"
   ]
  },
  {
   "cell_type": "markdown",
   "metadata": {},
   "source": [
    "# Transformed"
   ]
  },
  {
   "cell_type": "code",
   "execution_count": 5,
   "metadata": {
    "scrolled": true
   },
   "outputs": [
    {
     "data": {
      "text/plain": [
       "((4459, 9983), (49342, 9982))"
      ]
     },
     "execution_count": 5,
     "metadata": {},
     "output_type": "execute_result"
    }
   ],
   "source": [
    "train_transformed = train.copy()\n",
    "test_transformed = test.copy()\n",
    "\n",
    "# first column is targets vector\n",
    "train_transformed.iloc[:,1:] = np.log(train_transformed.iloc[:,1:]+1)\n",
    "test_transformed = np.log(test_transformed+1)\n",
    "\n",
    "train_transformed_flags = train_transformed.iloc[:,1:] > 0\n",
    "test_transformed_flags = test_transformed > 0\n",
    "\n",
    "train_transformed_flags.columns = [c+'_flag' for c in train_transformed_flags.columns]\n",
    "test_transformed_flags.columns = [c+'_flag' for c in test_transformed_flags.columns]\n",
    "\n",
    "train_transformed = pd.concat([train_transformed, train_transformed_flags], axis=1)\n",
    "test_transformed = pd.concat([test_transformed, test_transformed_flags], axis=1)\n",
    "\n",
    "train_transformed.shape, test_transformed.shape"
   ]
  },
  {
   "cell_type": "markdown",
   "metadata": {},
   "source": [
    "# Save"
   ]
  },
  {
   "cell_type": "code",
   "execution_count": 6,
   "metadata": {},
   "outputs": [],
   "source": [
    "train_transformed.to_hdf('data/train_transformed.h5', 'data')\n",
    "test_transformed.to_hdf('data/test_transformed.h5', 'data')"
   ]
  }
 ],
 "metadata": {
  "kernelspec": {
   "display_name": "Python 3",
   "language": "python",
   "name": "python3"
  },
  "language_info": {
   "codemirror_mode": {
    "name": "ipython",
    "version": 3
   },
   "file_extension": ".py",
   "mimetype": "text/x-python",
   "name": "python",
   "nbconvert_exporter": "python",
   "pygments_lexer": "ipython3",
   "version": "3.6.6"
  }
 },
 "nbformat": 4,
 "nbformat_minor": 2
}
