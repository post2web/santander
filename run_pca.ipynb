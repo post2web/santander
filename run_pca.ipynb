{
 "cells": [
  {
   "cell_type": "code",
   "execution_count": 1,
   "metadata": {},
   "outputs": [],
   "source": [
    "%matplotlib inline\n",
    "import matplotlib.pyplot as plt\n",
    "import pandas as pd\n",
    "import pandas as pd\n",
    "import numpy as np\n",
    "import gc\n",
    "from sklearn.decomposition import PCA\n",
    "from ed import get_data as ed_get_data\n",
    "import shutil, os"
   ]
  },
  {
   "cell_type": "markdown",
   "metadata": {},
   "source": [
    "# Read the input data"
   ]
  },
  {
   "cell_type": "code",
   "execution_count": 2,
   "metadata": {},
   "outputs": [
    {
     "name": "stderr",
     "output_type": "stream",
     "text": [
      "/Users/evo/.pyenv/versions/3.6.6/lib/python3.6/site-packages/sklearn/cross_validation.py:41: DeprecationWarning: This module was deprecated in version 0.18 in favor of the model_selection module into which all the refactored classes and functions are moved. Also note that the interface of the new CV iterators are different from that of this module. This module will be removed in 0.20.\n",
      "  \"This module will be removed in 0.20.\", DeprecationWarning)\n"
     ]
    }
   ],
   "source": [
    "# train is test because its unsupervised \n",
    "train = pd.read_hdf('data/test.h5', 'data')\n",
    "test = pd.read_hdf('data/train.h5', 'data')\n",
    "y = test['target'].copy()\n",
    "del test['target']\n",
    "\n",
    "n_features = 2000\n",
    "features = pd.read_hdf('data/importance.h5', 'data').iloc[:n_features]\n",
    "#train = train[features.index]\n",
    "#test = test[features.index]"
   ]
  },
  {
   "cell_type": "markdown",
   "metadata": {},
   "source": [
    "# Create PCA transformation for different number of components"
   ]
  },
  {
   "cell_type": "code",
   "execution_count": null,
   "metadata": {},
   "outputs": [
    {
     "name": "stdout",
     "output_type": "stream",
     "text": [
      "2\n"
     ]
    },
    {
     "name": "stderr",
     "output_type": "stream",
     "text": [
      "/Users/evo/.pyenv/versions/3.6.6/lib/python3.6/site-packages/pandas/io/pytables.py:279: PerformanceWarning: \n",
      "your performance may suffer as PyTables will pickle object types that it cannot\n",
      "map directly to c-types [inferred_type->mixed-integer,key->axis0] [items->None]\n",
      "\n",
      "  f(store)\n"
     ]
    },
    {
     "name": "stdout",
     "output_type": "stream",
     "text": [
      "4\n"
     ]
    }
   ],
   "source": [
    "result = {}\n",
    "for n_components in [2, 4, 8, 16, 32, 64, 128]:\n",
    "    print(n_components)\n",
    "    pca = PCA(n_components=n_components)\n",
    "    pca.fit(train)\n",
    "    \n",
    "    test_transformed = pca.transform(test)\n",
    "    train_transformed = pca.transform(train)\n",
    "\n",
    "    train_reconstruction = pd.DataFrame(pca.inverse_transform(test_transformed), index=test.index)\n",
    "    \n",
    "    train_transformed = pd.DataFrame(\n",
    "        train_transformed, index=train.index)\n",
    "    \n",
    "    test_transformed = pd.DataFrame(\n",
    "        test_transformed, index=test.index)\n",
    "    test_transformed['target'] = y.values\n",
    "        \n",
    "    result_dir = 'pca_result/%d/' % n_components\n",
    "    shutil.rmtree(result_dir, ignore_errors=True)\n",
    "    os.makedirs(result_dir)\n",
    "    \n",
    "    train_transformed.to_hdf(result_dir+'test.h5', 'data')\n",
    "    test_transformed.to_hdf(result_dir+'train.h5', 'data')\n",
    "    train_reconstruction.to_hdf(result_dir+'train_reconstruction.h5', 'data')\n",
    "\n",
    "    del pca\n",
    "    gc.collect()"
   ]
  }
 ],
 "metadata": {
  "kernelspec": {
   "display_name": "Python 3",
   "language": "python",
   "name": "python3"
  },
  "language_info": {
   "codemirror_mode": {
    "name": "ipython",
    "version": 3
   },
   "file_extension": ".py",
   "mimetype": "text/x-python",
   "name": "python",
   "nbconvert_exporter": "python",
   "pygments_lexer": "ipython3",
   "version": "3.6.6"
  }
 },
 "nbformat": 4,
 "nbformat_minor": 2
}
